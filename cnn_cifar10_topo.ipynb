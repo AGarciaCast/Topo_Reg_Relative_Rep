{
  "cells": [
    {
      "attachments": {},
      "cell_type": "markdown",
      "metadata": {},
      "source": [
        "Notebook based on https://github.com/c-hofer/topologically_densified_distributions/blob/master/core/experiments.py"
      ]
    },
    {
      "cell_type": "code",
      "execution_count": 1,
      "metadata": {
        "id": "vuafurQ9HceN"
      },
      "outputs": [],
      "source": [
        "%load_ext autoreload\n",
        "%autoreload 2\n",
        "%matplotlib inline"
      ]
    },
    {
      "cell_type": "code",
      "execution_count": 1,
      "metadata": {
        "colab": {
          "base_uri": "https://localhost:8080/"
        },
        "id": "rSu5FJzEHceR",
        "outputId": "4bcfa4c8-9679-4999-e736-17be158a9ebc"
      },
      "outputs": [
        {
          "name": "stdout",
          "output_type": "stream",
          "text": [
            "cuda:0\n"
          ]
        },
        {
          "name": "stderr",
          "output_type": "stream",
          "text": [
            "c:\\Users\\alexg\\anaconda3\\envs\\rl_env\\lib\\site-packages\\torch\\utils\\cpp_extension.py:358: UserWarning: Error checking compiler version for cl: [WinError 2] El sistema no puede encontrar el archivo especificado\n",
            "  warnings.warn(f'Error checking compiler version for {compiler}: {error}')\n",
            "c:\\Users\\alexg\\Desktop\\KTH\\Year 2\\Thesis\\Topo_Reg_Relative_Rep\\torchph\\pershom\\pershom_backend.py:82: UserWarning: \n",
            "    Failed jit compilation in c:\\Users\\alexg\\Desktop\\KTH\\Year 2\\Thesis\\Topo_Reg_Relative_Rep\\torchph\\pershom\\pershom_backend.py.\n",
            "    Error was `Command '['where', 'cl']' returned non-zero exit status 1.`.\n",
            "    The error will be re-raised calling any function in this module.\n",
            "    \n",
            "  warnings.warn(_failed_compilation_msg.format(__file__, ex))\n"
          ]
        }
      ],
      "source": [
        "import torch\n",
        "import torchvision\n",
        "import torchvision.transforms as transforms\n",
        "from tqdm import tqdm\n",
        "import random\n",
        "import torch.nn as nn\n",
        "import torch.optim as optim\n",
        "from modules.cnn import SimpleCNN13\n",
        "from utils.tensor_ops import set_seed\n",
        "from pathlib import Path\n",
        "import matplotlib.pyplot as plt\n",
        "from utils.topo_ds import *\n",
        "import seaborn as sns \n",
        "from utils.pershom import pers2fn\n",
        "import numpy as np\n",
        "\n",
        "CHECKPOINT_PATH = Path('./saved_models/cnn_topo')\n",
        "DATASET_PATH =  Path(\"./data\")\n",
        "FIG_PATH =  Path(\"./Visualization/cnn_topo\")\n",
        "\n",
        "set_seed(42)\n",
        "# Ensure that all operations are deterministic on GPU (if used) for reproducibility\n",
        "torch.backends.cudnn.deterministic = True\n",
        "torch.backends.cudnn.benchmark = False\n",
        "\n",
        "device = torch.device('cuda:0' if torch.cuda.is_available() else 'cpu')\n",
        "print(device)"
      ]
    },
    {
      "attachments": {},
      "cell_type": "markdown",
      "metadata": {},
      "source": [
        "# Data"
      ]
    },
    {
      "cell_type": "code",
      "execution_count": null,
      "metadata": {},
      "outputs": [],
      "source": [
        "def multi_draw_collate_fn(batch):\n",
        "    data = []\n",
        "    for x, _ in batch:\n",
        "        data += x \n",
        "    \n",
        "    data = torch.cat(data, dim=0)\n",
        "\n",
        "    return  data"
      ]
    },
    {
      "cell_type": "code",
      "execution_count": 3,
      "metadata": {
        "colab": {
          "base_uri": "https://localhost:8080/"
        },
        "id": "qn50azXLHceS",
        "outputId": "0875e325-ecd5-488c-a929-deced2420fd2"
      },
      "outputs": [
        {
          "name": "stdout",
          "output_type": "stream",
          "text": [
            "Downloading https://www.cs.toronto.edu/~kriz/cifar-10-python.tar.gz to ./data\\cifar-10-python.tar.gz\n"
          ]
        },
        {
          "data": {
            "application/vnd.jupyter.widget-view+json": {
              "model_id": "c38f5a2b41da49ea8aae4623880d8cab",
              "version_major": 2,
              "version_minor": 0
            },
            "text/plain": [
              "  0%|          | 0/170498071 [00:00<?, ?it/s]"
            ]
          },
          "metadata": {},
          "output_type": "display_data"
        },
        {
          "name": "stdout",
          "output_type": "stream",
          "text": [
            "Extracting ./data\\cifar-10-python.tar.gz to ./data\n",
            "Files already downloaded and verified\n"
          ]
        }
      ],
      "source": [
        "transform = transforms.Compose(\n",
        "    [transforms.ToTensor(),\n",
        "     transforms.Normalize((0.5, 0.5, 0.5), (0.5, 0.5, 0.5)),\n",
        "     transforms.RandomCrop(32, padding=4),\n",
        "     transforms.RandomHorizontalFlip()])\n",
        "\n",
        "batch_size = 128\n",
        "num_subset = 500\n",
        "trainset = torchvision.datasets.CIFAR10(root=DATASET_PATH, train=True,\n",
        "                                        download=True, transform=transform)\n",
        "trainset = torch.utils.data.Subset(trainset, random.sample(range(len(trainset)), num_subset))\n",
        "trainloader = torch.utils.data.DataLoader(trainset, batch_size=batch_size,\n",
        "                                          shuffle=True, num_workers=2)\n",
        "\n",
        "testset = torchvision.datasets.CIFAR10(root=DATASET_PATH, train=False,\n",
        "                                       download=True, transform=transform)\n",
        "\n",
        "\n",
        "ds_test_multi = IntraLabelMultiDraw(testset, 16)\n",
        "testloader = (DataLoader(testset,\n",
        "                         num_workers=2,\n",
        "                         batch_size=batch_size,\n",
        "                         shuffle=False\n",
        "                         ),\n",
        "              \n",
        "              DataLoader(ds_test_multi,\n",
        "                         num_workers=4,\n",
        "                         collate_fn=multi_draw_collate_fn,\n",
        "                         batch_size=1,\n",
        "                         shuffle=False\n",
        "                )\n",
        "              )\n",
        "\n",
        "\n",
        "\n",
        "classes = ('plane', 'car', 'bird', 'cat',\n",
        "           'deer', 'dog', 'frog', 'horse', \n",
        "           'ship', 'truck')"
      ]
    },
    {
      "cell_type": "markdown",
      "metadata": {
        "id": "grS3VLTZHceU"
      },
      "source": [
        "# Train\n"
      ]
    },
    {
      "cell_type": "code",
      "execution_count": null,
      "metadata": {
        "colab": {
          "base_uri": "https://localhost:8080/"
        },
        "id": "7hWRxPVxHceU",
        "outputId": "57af6d24-420d-4826-a510-b71810211332"
      },
      "outputs": [],
      "source": [
        "net = SimpleCNN13(len(classes))\n",
        "criterion = nn.CrossEntropyLoss()\n",
        "optimizer = optim.SGD(\n",
        "            [\n",
        "                {'params': net.parameters(), 'weight_decay': 0.001},\n",
        "            ],\n",
        "            lr=0.5,\n",
        "            momentum=0.9,\n",
        "            nesterov=True)\n",
        "\n",
        "scheduler = optim.lr_scheduler.CosineAnnealingLR(\n",
        "            optimizer,\n",
        "            T_max=310,\n",
        "            eta_min=0,\n",
        "            last_epoch=-1)\n",
        "\n",
        "net.train()\n",
        "net.to(device)\n",
        "\n",
        "for epoch in tqdm(range(310), leave=False, desc=\"Training\"):  # loop over the dataset multiple times\n",
        "\n",
        "    for i, data in enumerate(trainloader, 0):\n",
        "        # get the inputs; data is a list of [inputs, labels]\n",
        "        inputs, labels = data[0].to(device), data[1].to(device)\n",
        "\n",
        "        # zero the parameter gradients\n",
        "        optimizer.zero_grad()\n",
        "\n",
        "        # forward + backward + optimize\n",
        "        outputs = net(inputs)[0]\n",
        "        loss = criterion(outputs, labels)\n",
        "        loss.backward()\n",
        "        optimizer.step()\n",
        "\n",
        "    scheduler.step()"
      ]
    },
    {
      "cell_type": "code",
      "execution_count": 9,
      "metadata": {
        "id": "fu8igHnzHceU"
      },
      "outputs": [],
      "source": [
        "torch.save(net.state_dict(), CHECKPOINT_PATH / f\"cifar10_{num_subset}.pth\")"
      ]
    },
    {
      "cell_type": "markdown",
      "metadata": {
        "id": "teZ6KsDNHceU"
      },
      "source": [
        "# Test\n",
        "\n",
        "\n"
      ]
    },
    {
      "cell_type": "code",
      "execution_count": 10,
      "metadata": {
        "colab": {
          "base_uri": "https://localhost:8080/"
        },
        "id": "IuoGqAC9HceV",
        "outputId": "2f3bf546-7549-41a6-d06b-9a8fc9a460a4"
      },
      "outputs": [
        {
          "data": {
            "text/plain": [
              "<All keys matched successfully>"
            ]
          },
          "execution_count": 10,
          "metadata": {},
          "output_type": "execute_result"
        }
      ],
      "source": [
        "net = SimpleCNN13(len(classes))\n",
        "net.load_state_dict(torch.load(CHECKPOINT_PATH / f\"cifar10_{num_subset}.pth\"))"
      ]
    },
    {
      "cell_type": "code",
      "execution_count": 12,
      "metadata": {
        "colab": {
          "base_uri": "https://localhost:8080/"
        },
        "id": "pgmR4Q6lHceV",
        "outputId": "92e7ced4-b37a-4e33-a5a2-a2a3c5c92715"
      },
      "outputs": [
        {
          "name": "stdout",
          "output_type": "stream",
          "text": [
            "Accuracy of the network on the 10000 test images: 50 %\n"
          ]
        }
      ],
      "source": [
        "correct = 0\n",
        "total = 0\n",
        "net.to(device)\n",
        "net.eval()\n",
        "# since we're not training, we don't need to calculate the gradients for our outputs\n",
        "with torch.no_grad():\n",
        "    dataloader = testloader[0]\n",
        "    for data in dataloader:\n",
        "        inputs, labels = data[0].to(device), data[1].to(device)\n",
        "        # calculate outputs by running images through the network\n",
        "        outputs, _ = net(inputs)\n",
        "        # the class with the highest energy is what we choose as prediction\n",
        "        _, predicted = torch.max(outputs.data, 1)\n",
        "        total += labels.size(0)\n",
        "        correct += (predicted == labels).sum().item()\n",
        "\n",
        "print(f'Accuracy of the network on the 10000 test images: {100 * correct // total} %')"
      ]
    },
    {
      "cell_type": "code",
      "execution_count": null,
      "metadata": {
        "id": "B810ugcwWCk6"
      },
      "outputs": [],
      "source": [
        "net.to(device)\n",
        "net.eval()\n",
        "pers_fn = pers2fn(\"L_2\")\n",
        "\n",
        "pre_topo = []\n",
        "pre_topo_max = []\n",
        "with torch.no_grad():\n",
        "    dataloader = testloader[1]\n",
        "    for batch in tqdm(dataloader, position=0, leave=True, desc=\"Computing\"):\n",
        "        batch.to(device)\n",
        "        _, latents = net(inputs)\n",
        "        aux = pers_fn(latents.contiguous())[0][0][:, 1].tolist()\n",
        "        pre_topo += aux\n",
        "        pre_topo_max.append(np.max(aux))\n",
        "\n",
        "\n",
        "fig, (ax1, ax2) = plt.subplots(1, 2, figsize=(15, 5))\n",
        "\n",
        "sns.kdeplot(pre_topo, linewidth=2, fill=True, ax=ax1)\n",
        "ax1.set_title(\"All death times\")\n",
        "\n",
        "sns.kdeplot(pre_topo_max, linewidth=2, fill=True, ax=ax2)\n",
        "ax2.set_title(\"Max death times\")\n",
        "\n",
        "ax1.grid()\n",
        "ax2.grid()\n",
        "fig.suptitle(f\"SimpleCNN13 CIFAR10-{num_subset}: VR \" + r\"$H_0$\" + \" pers w/ \" + r\"$L^2$\")\n",
        "plt.tight_layout()\n",
        "fig.savefig(\"topo_dist_cnn_cifar10_{num_subset}.png\")\n",
        "plt.show()"
      ]
    }
  ],
  "metadata": {
    "accelerator": "GPU",
    "colab": {
      "provenance": []
    },
    "gpuClass": "standard",
    "kernelspec": {
      "display_name": "Python 3",
      "language": "python",
      "name": "python3"
    },
    "language_info": {
      "codemirror_mode": {
        "name": "ipython",
        "version": 3
      },
      "file_extension": ".py",
      "mimetype": "text/x-python",
      "name": "python",
      "nbconvert_exporter": "python",
      "pygments_lexer": "ipython3",
      "version": "3.8.15"
    }
  },
  "nbformat": 4,
  "nbformat_minor": 0
}
